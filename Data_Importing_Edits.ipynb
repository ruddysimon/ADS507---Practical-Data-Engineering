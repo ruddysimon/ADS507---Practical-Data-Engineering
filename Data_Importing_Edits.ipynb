{
 "cells": [
  {
   "cell_type": "code",
   "execution_count": 11,
   "metadata": {},
   "outputs": [
    {
     "name": "stdout",
     "output_type": "stream",
     "text": [
      "Requirement already satisfied: mysql-connector-python in /Users/dunya/opt/miniconda3/envs/ADS500B/lib/python3.10/site-packages (8.0.28)\n",
      "Requirement already satisfied: protobuf>=3.0.0 in /Users/dunya/opt/miniconda3/envs/ADS500B/lib/python3.10/site-packages (from mysql-connector-python) (3.20.0)\n"
     ]
    }
   ],
   "source": [
    "#!pip install mysql-connector-python"
   ]
  },
  {
   "cell_type": "code",
   "execution_count": 2,
   "metadata": {},
   "outputs": [],
   "source": [
    "# Import dependencies\n",
    "import pandas as pd\n",
    "import numpy as np\n",
    "import pymysql as mysql\n",
    "import matplotlib.pyplot as plt\n",
    "import os\n",
    "import warnings\n",
    "import getpass\n",
    "import mysql.connector as msql\n",
    "from mysql.connector import Error\n",
    "warnings.filterwarnings('ignore')"
   ]
  },
  {
   "cell_type": "markdown",
   "metadata": {},
   "source": [
    "Import CSV Files"
   ]
  },
  {
   "cell_type": "code",
   "execution_count": 3,
   "metadata": {},
   "outputs": [],
   "source": [
    "calendar=pd.read_csv('Dataset/calendar.csv',index_col = False, delimiter = ',')\n",
    "reviews=pd.read_csv('Dataset/reviews.csv',index_col = False, delimiter = ',')\n",
    "listings=pd.read_csv('Dataset/listings.csv',index_col = False, delimiter = ',')"
   ]
  },
  {
   "cell_type": "code",
   "execution_count": 4,
   "metadata": {},
   "outputs": [
    {
     "name": "stdout",
     "output_type": "stream",
     "text": [
      "calendar dataframe shape (1048575, 4)\n",
      "listings dataframe shape (3817, 91)\n",
      "reviews dataframe shape (84849, 6)\n"
     ]
    }
   ],
   "source": [
    "print(f'calendar dataframe shape {calendar.shape}')\n",
    "print(f'listings dataframe shape {listings.shape}')\n",
    "print(f'reviews dataframe shape {reviews.shape}')"
   ]
  },
  {
   "cell_type": "markdown",
   "metadata": {},
   "source": [
    "Connect to MySQL"
   ]
  },
  {
   "cell_type": "code",
   "execution_count": 5,
   "metadata": {},
   "outputs": [
    {
     "name": "stdout",
     "output_type": "stream",
     "text": [
      "Connected to MySQL...\n"
     ]
    }
   ],
   "source": [
    "def connect_to_msql(database=''):\n",
    "    try:\n",
    "        conn = msql.connect(host='localhost', user='root', password=getpass.getpass('Enter password:'), database=f'{database}')\n",
    "        print(\"Connected to MySQL...\")\n",
    "    except Error as e:\n",
    "        print(\"Error while connecting to MySQL\", e)\n",
    "    return conn\n",
    "\n",
    "# Run initial DB connection\n",
    "conn = connect_to_msql()\n"
   ]
  },
  {
   "cell_type": "markdown",
   "metadata": {},
   "source": [
    "Drop Database"
   ]
  },
  {
   "cell_type": "code",
   "execution_count": 6,
   "metadata": {},
   "outputs": [
    {
     "name": "stdout",
     "output_type": "stream",
     "text": [
      "Database: Airbnb_DB is dropped\n"
     ]
    }
   ],
   "source": [
    "# Function for dropping DB\n",
    "\n",
    "def drop_database(connection, string):\n",
    "    try:\n",
    "        if connection.is_connected():\n",
    "            cursor = connection.cursor()\n",
    "        else: \n",
    "            connection = connect_to_msql()\n",
    "            cursor = connection.cursor()\n",
    "\n",
    "        cursor.execute(f\"DROP DATABASE IF EXISTS {string}\")\n",
    "        print(f\"Database: {string} is dropped\")\n",
    "    except Error as e:\n",
    "        print(\"Error while connecting to MySQL\", e)\n",
    "\n",
    "# How to call function, with conn and DB string\n",
    "\n",
    "drop_database(conn, 'Airbnb_DB')"
   ]
  },
  {
   "cell_type": "markdown",
   "metadata": {},
   "source": [
    "Create Database"
   ]
  },
  {
   "cell_type": "code",
   "execution_count": 7,
   "metadata": {},
   "outputs": [
    {
     "name": "stdout",
     "output_type": "stream",
     "text": [
      "Database is created\n"
     ]
    }
   ],
   "source": [
    "# Function for creating DB\n",
    "\n",
    "def create_database(connection, string):\n",
    "    try:\n",
    "        if connection.is_connected():\n",
    "            cursor = connection.cursor()\n",
    "        else:\n",
    "            connection = connect_to_msql()\n",
    "            cursor = connection.cursor()\n",
    "        cursor.execute(\"CREATE DATABASE Airbnb_DB\")\n",
    "        print(\"Database is created\")\n",
    "    except Error as e:\n",
    "        print(\"Error while connecting to MySQL\", e)\n",
    "\n",
    "# How to call function, with conn and DB string\n",
    "\n",
    "create_database(conn, 'Airbnb_DB')"
   ]
  },
  {
   "cell_type": "markdown",
   "metadata": {},
   "source": [
    "Import Calendar CSV Files"
   ]
  },
  {
   "cell_type": "code",
   "execution_count": 25,
   "metadata": {},
   "outputs": [
    {
     "name": "stdout",
     "output_type": "stream",
     "text": [
      "You're connected to database:  ('airbnb_db',)\n",
      "Creating table....\n",
      "Table is created....\n",
      "Number of records inserted into calendar table:  1048575\n"
     ]
    }
   ],
   "source": [
    "# Function for importing calendar files\n",
    "\n",
    "calendar = calendar.replace(np.nan, None)\n",
    "\n",
    "def import_calendar(connection, string):\n",
    "\n",
    "    try:                  \n",
    "        if connection.is_connected():\n",
    "            cursor = connection.cursor()\n",
    "        else:\n",
    "            connection = connect_to_msql(f'{string}')\n",
    "            cursor = connection.cursor()\n",
    "        cursor.execute(\"USE Airbnb_DB;\")\n",
    "        cursor.execute(\"SELECT database();\")\n",
    "\n",
    "        record = cursor.fetchone()\n",
    "        print(\"You're connected to database: \", record)\n",
    "\n",
    "        cursor.execute('DROP TABLE IF EXISTS calendar;')\n",
    "\n",
    "        print('Creating table....')\n",
    "                        \n",
    "        # pass the create table statement \n",
    "        cursor.execute(\"CREATE TABLE calendar(listing_id int NOT NULL, \\\n",
    "        date date DEFAULT NULL,available TEXT DEFAULT NULL, price text default NULL)\")\n",
    "        print(\"Table is created....\")\n",
    "        \n",
    "        for i,row in calendar.iterrows():\n",
    "            sql = \"INSERT INTO Airbnb_DB.calendar VALUES (%s,%s,%s,%s)\" # %S means string interpolation\n",
    "            cursor.execute(sql, tuple(row))\n",
    "            conn.commit() # since connection is not auto committed by default\n",
    "        \n",
    "        print(\"Number of records inserted into calendar table: \", i + 1)\n",
    "    except Error as e:\n",
    "                print(\"Error while connecting to MySQL\", e)\n",
    "\n",
    "# How to call function\n",
    "\n",
    "import_calendar(conn, 'Airbnb_DB')"
   ]
  },
  {
   "cell_type": "markdown",
   "metadata": {},
   "source": [
    "Import Reviews CSV"
   ]
  },
  {
   "cell_type": "code",
   "execution_count": 26,
   "metadata": {},
   "outputs": [
    {
     "name": "stdout",
     "output_type": "stream",
     "text": [
      "You're connected to database:  ('airbnb_db',)\n",
      "Creating table....\n",
      "Table is created....\n",
      "Number of records inserted into reviews table:  84849\n"
     ]
    }
   ],
   "source": [
    "# Function for importing reviews files\n",
    "\n",
    "reviews = reviews.replace(np.nan, None)\n",
    "\n",
    "def import_reviews(connection, string):\n",
    "\n",
    "    try:                  \n",
    "        if connection.is_connected():\n",
    "            cursor = connection.cursor()\n",
    "        else:\n",
    "            connection = connect_to_msql(f'{string}')\n",
    "            cursor = connection.cursor()\n",
    "        cursor.execute(\"USE Airbnb_DB;\")\n",
    "        cursor.execute(\"SELECT database();\")\n",
    "\n",
    "        record = cursor.fetchone()\n",
    "        print(\"You're connected to database: \", record)\n",
    "\n",
    "        cursor.execute('DROP TABLE IF EXISTS reviews;')\n",
    "\n",
    "        print('Creating table....')\n",
    "\n",
    "        # pass the create table statement\n",
    "        cursor.execute(\"CREATE TABLE reviews(listing_id int NOT NULL,\\\n",
    "        id int,\\\n",
    "        date date,\\\n",
    "        reviewer_id int DEFAULT NULL,\\\n",
    "        reviewer_name varchar(100) DEFAULT NULL, \\\n",
    "        comments text DEFAULT NULL,\\\n",
    "        PRIMARY KEY (id)\\\n",
    "        )\")\n",
    "        print(\"Table is created....\")\n",
    "        \n",
    "        for i,row in reviews.iterrows():\n",
    "            sql = \"INSERT INTO Airbnb_DB.reviews VALUES (%s,%s,%s,%s,%s,%s)\"\n",
    "            cursor.execute(sql, tuple(row))\n",
    "            # print(\"Record inserted\")\n",
    "            \n",
    "            conn.commit()\n",
    "        print(\"Number of records inserted into reviews table: \", i + 1)\n",
    "    except Error as e:\n",
    "        print(\"Error while connecting to MySQL\", e)\n",
    "\n",
    "# How to call function\n",
    "\n",
    "import_reviews(conn, 'Airbnb_DB')"
   ]
  },
  {
   "cell_type": "markdown",
   "metadata": {},
   "source": [
    "Import Listings CSV"
   ]
  },
  {
   "cell_type": "code",
   "execution_count": 27,
   "metadata": {},
   "outputs": [
    {
     "name": "stdout",
     "output_type": "stream",
     "text": [
      "You're connected to database:  ('airbnb_db',)\n",
      "Creating table....\n",
      "Table is created....\n",
      "Number of records inserted into listings table:  3817\n"
     ]
    }
   ],
   "source": [
    "# Function for importing reviews files\n",
    "\n",
    "listings = listings.replace(np.nan, None)\n",
    "\n",
    "def import_listings(connection, string):\n",
    "\n",
    "    try:                  \n",
    "        if connection.is_connected():\n",
    "            cursor = connection.cursor()\n",
    "        else:\n",
    "            connection = connect_to_msql(f'{string}')\n",
    "            cursor = connection.cursor()\n",
    "        cursor.execute(\"USE Airbnb_DB;\")\n",
    "        cursor.execute(\"SELECT database();\")\n",
    "\n",
    "        record = cursor.fetchone()\n",
    "        print(\"You're connected to database: \", record)\n",
    "\n",
    "        cursor.execute('DROP TABLE IF EXISTS listings;')\n",
    "\n",
    "        print('Creating table....')\n",
    "\n",
    "        cursor.execute(\"CREATE TABLE listings ( id INT NOT NULL,\\\n",
    "        listing_url TEXT DEFAULT NULL,\\\n",
    "        scrape_id BIGINT DEFAULT NULL,\\\n",
    "        last_scraped DATE DEFAULT NULL,\\\n",
    "        name VARCHAR(100) DEFAULT NULL,\\\n",
    "        summary TEXT DEFAULT NULL,\\\n",
    "        space TEXT DEFAULT NULL,\\\n",
    "        description TEXT DEFAULT NULL,\\\n",
    "        experiences_offered VARCHAR(10) DEFAULT NULL,\\\n",
    "        neighborhood_overview TEXT DEFAULT NULL,\\\n",
    "        notes TEXT DEFAULT NULL,\\\n",
    "        transit TEXT DEFAULT NULL,\\\n",
    "        thumbnail_url TEXT DEFAULT NULL,\\\n",
    "        medium_url TEXT DEFAULT NULL,\\\n",
    "        picture_url TEXT DEFAULT NULL,\\\n",
    "        xl_picture_url TEXT DEFAULT NULL,\\\n",
    "        host_id INT UNSIGNED DEFAULT NULL,\\\n",
    "        host_url TEXT DEFAULT NULL,\\\n",
    "        host_name VARCHAR (100) DEFAULT NULL,\\\n",
    "        host_since DATE DEFAULT NULL,\\\n",
    "        host_location VARCHAR (100) DEFAULT NULL,\\\n",
    "        host_about TEXT DEFAULT NULL,\\\n",
    "        host_response_time VARCHAR(100) DEFAULT NULL,\\\n",
    "        host_response_rate VARCHAR(10) DEFAULT NULL,\\\n",
    "        host_acceptance_rate VARCHAR(10) DEFAULT NULL,\\\n",
    "        host_is_superhost VARCHAR(1) DEFAULT NULL,\\\n",
    "        host_thumbnail_url TEXT DEFAULT NULL,\\\n",
    "        host_picture_url TEXT DEFAULT NULL,\\\n",
    "        host_neighbourhood VARCHAR (100) DEFAULT NULL,\\\n",
    "        host_listings_count INT DEFAULT NULL,\\\n",
    "        host_total_listings_count INT DEFAULT NULL,\\\n",
    "        host_verifications VARCHAR (500) DEFAULT NULL,\\\n",
    "        host_has_profile_pic VARCHAR(1) DEFAULT NULL,\\\n",
    "        host_identity_verified VARCHAR(1) DEFAULT NULL,\\\n",
    "        street TEXT DEFAULT NULL,\\\n",
    "        neighbourhood VARCHAR (100) DEFAULT NULL,\\\n",
    "        neighbourhood_cleansed VARCHAR (100) DEFAULT NULL,\\\n",
    "        neighbourhood_group_cleansed VARCHAR (100) DEFAULT NULL,\\\n",
    "        city VARCHAR (100) DEFAULT NULL,\\\n",
    "        state VARCHAR (10) DEFAULT NULL,\\\n",
    "        zipcode INT DEFAULT NULL,\\\n",
    "        market VARCHAR(50) DEFAULT NULL,\\\n",
    "        country_code TEXT,\\\n",
    "        country VARCHAR(50) DEFAULT NULL,\\\n",
    "        latitude VARCHAR(50) DEFAULT NULL,\\\n",
    "        longitude VARCHAR(50) DEFAULT NULL,\\\n",
    "        is_location_exact VARCHAR(1) DEFAULT NULL,\\\n",
    "        property_type VARCHAR(50) DEFAULT NULL,\\\n",
    "        room_type VARCHAR(50) DEFAULT NULL,\\\n",
    "        accommodates SMALLINT UNSIGNED NULL,\\\n",
    "        bathrooms FLOAT UNSIGNED DEFAULT NULL,\\\n",
    "        bedrooms SMALLINT UNSIGNED DEFAULT NULL,\\\n",
    "        beds SMALLINT UNSIGNED DEFAULT NULL,\\\n",
    "        bed_type VARCHAR(50) DEFAULT NULL,\\\n",
    "        amenities TEXT DEFAULT NULL,\\\n",
    "        square_feet BIGINT DEFAULT NULL,\\\n",
    "        price VARCHAR(10) DEFAULT NULL,\\\n",
    "        weekly_price VARCHAR(10) DEFAULT NULL,\\\n",
    "        monthly_price VARCHAR(10) DEFAULT NULL,\\\n",
    "        security_deposit VARCHAR(10) DEFAULT NULL,\\\n",
    "        cleaning_fee VARCHAR(10) DEFAULT NULL,\\\n",
    "        guests_included SMALLINT UNSIGNED DEFAULT NULL,\\\n",
    "        extra_people VARCHAR(10) DEFAULT NULL,\\\n",
    "        minimum_nights SMALLINT UNSIGNED DEFAULT NULL,\\\n",
    "        maximum_nights INT UNSIGNED DEFAULT NULL,\\\n",
    "        calendar_updated VARCHAR(50) DEFAULT NULL,\\\n",
    "        has_availability VARCHAR(1) DEFAULT NULL,\\\n",
    "        availability_30 SMALLINT UNSIGNED NOT NULL,\\\n",
    "        availability_60 SMALLINT UNSIGNED NOT NULL,\\\n",
    "        availability_90 SMALLINT UNSIGNED NOT NULL,\\\n",
    "        availability_365 SMALLINT UNSIGNED NOT NULL,\\\n",
    "        calendar_last_scraped DATE DEFAULT NULL,\\\n",
    "        number_of_reviews SMALLINT UNSIGNED NULL,\\\n",
    "        first_review DATE DEFAULT NULL,\\\n",
    "        last_review DATE DEFAULT NULL,\\\n",
    "        review_scores_rating SMALLINT UNSIGNED DEFAULT NULL,\\\n",
    "        review_scores_accuracy SMALLINT UNSIGNED DEFAULT NULL,\\\n",
    "        review_scores_cleanliness SMALLINT UNSIGNED DEFAULT NULL,\\\n",
    "        review_scores_checkin SMALLINT UNSIGNED DEFAULT NULL,\\\n",
    "        review_scores_communication SMALLINT UNSIGNED NULL DEFAULT NULL,\\\n",
    "        review_scores_location SMALLINT UNSIGNED DEFAULT NULL,\\\n",
    "        review_scores_value SMALLINT UNSIGNED DEFAULT NULL,\\\n",
    "        requires_license VARCHAR(1) DEFAULT NULL,\\\n",
    "        license VARCHAR(50) NULL DEFAULT NULL,\\\n",
    "        jurisdiction_names VARCHAR(50) DEFAULT NULL,\\\n",
    "        instant_bookable VARCHAR(1) DEFAULT NULL,\\\n",
    "        cancellation_policy VARCHAR(50) NULL DEFAULT NULL,\\\n",
    "        require_guest_profile_picture VARCHAR(1) DEFAULT NULL,\\\n",
    "        require_guest_phone_verification VARCHAR(1) DEFAULT NULL,\\\n",
    "        calculated_host_listings_count SMALLINT UNSIGNED NULL DEFAULT NULL,\\\n",
    "        reviews_per_month FLOAT UNSIGNED NULL,\\\n",
    "        PRIMARY KEY (id))\")\n",
    "    \n",
    "        print(\"Table is created....\")\n",
    "        \n",
    "         #loop through the data frame\n",
    "        for i,row in listings.iterrows():\n",
    "            \n",
    "            #here %S means string values \n",
    "            sql = \"INSERT INTO Airbnb_DB.listings VALUES (%s,%s,%s,%s,%s,%s,%s,%s,%s,%s,%s,%s,%s,%s,%s,%s,%s,%s,\\\n",
    "            %s,%s,%s,%s,%s,%s,%s,%s,%s,%s,%s,%s,%s,%s,%s,%s,%s,%s,%s,%s,%s,%s,%s,%s,%s,%s,%s,%s,%s,%s,%s,%s,\\\n",
    "            %s,%s,%s,%s,%s,%s,%s,%s,%s,%s,%s,%s,%s,%s,%s,%s,%s,%s,%s,%s,%s,%s,%s,%s,%s,%s,%s,%s,%s,%s,%s,%s,\\\n",
    "            %s,%s,%s,%s,%s,%s,%s,%s,%s)\"\n",
    "            cursor.execute(sql, tuple(row))\n",
    "            # print(\"Record inserted\")\n",
    "            \n",
    "            conn.commit()\n",
    "        print(\"Number of records inserted into listings table: \", i + 1)\n",
    "    except Error as e:\n",
    "                print(\"Error while connecting to MySQL\", e)\n",
    "\n",
    "# How to call function\n",
    "\n",
    "import_listings(conn, 'Airbnb_DB')\n",
    "\n"
   ]
  },
  {
   "cell_type": "code",
   "execution_count": null,
   "metadata": {},
   "outputs": [],
   "source": []
  }
 ],
 "metadata": {
  "kernelspec": {
   "display_name": "Python 3.10.4 ('ADS500B')",
   "language": "python",
   "name": "python3"
  },
  "language_info": {
   "codemirror_mode": {
    "name": "ipython",
    "version": 3
   },
   "file_extension": ".py",
   "mimetype": "text/x-python",
   "name": "python",
   "nbconvert_exporter": "python",
   "pygments_lexer": "ipython3",
   "version": "3.10.4"
  },
  "orig_nbformat": 4,
  "vscode": {
   "interpreter": {
    "hash": "b67baf7d77b2e4322c694a7cdbefbe104fc7a417c712774226af2226d547f1c9"
   }
  }
 },
 "nbformat": 4,
 "nbformat_minor": 2
}
