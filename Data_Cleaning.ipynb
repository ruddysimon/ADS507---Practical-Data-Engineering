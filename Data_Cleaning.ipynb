{
 "cells": [
  {
   "cell_type": "code",
   "execution_count": 1,
   "metadata": {},
   "outputs": [],
   "source": [
    "#!pip install mysql-connector-python"
   ]
  },
  {
   "cell_type": "code",
   "execution_count": 1,
   "metadata": {},
   "outputs": [],
   "source": [
    "# Import dependencies\n",
    "import pandas as pd\n",
    "import numpy as np\n",
    "import pymysql as mysql\n",
    "import matplotlib.pyplot as plt\n",
    "import os\n",
    "import warnings\n",
    "import getpass\n",
    "import re  \n",
    "from textblob import TextBlob\n",
    "\n",
    "import mysql.connector as msql\n",
    "from mysql.connector import Error\n",
    "warnings.filterwarnings('ignore')"
   ]
  },
  {
   "cell_type": "code",
   "execution_count": 2,
   "metadata": {},
   "outputs": [],
   "source": [
    "# Helper function to connect to db\n",
    "\n",
    "def connect_to_msql(database=''):\n",
    "    try:\n",
    "        conn = msql.connect(host='localhost', user='root', password=getpass.getpass('Enter password:'), database=f'{database}')\n",
    "        print(\"Connected to MySQL...\")\n",
    "    except Error as e:\n",
    "        print(\"Error while connecting to MySQL\", e)\n",
    "    return conn\n",
    "\n",
    "# Function to find unique array values\n",
    "\n",
    "def unique(array):\n",
    "    x = np.array(array)\n",
    "    print(\"Unique list values: \", np.unique(x))\n",
    "    return np.unique(x)\n",
    "\n",
    "# Functions for sentiment analysis\n",
    "\n",
    "def get_sentiment(comment):\n",
    "    blob = TextBlob(comment)\n",
    "    return blob.sentiment.polarity\n",
    "\n",
    "def get_sentiment_label(score):\n",
    "    if score >= 0:\n",
    "        return \"positive\"\n",
    "    else:\n",
    "        return \"negative\""
   ]
  },
  {
   "cell_type": "markdown",
   "metadata": {},
   "source": [
    "Clean Calendar and Export\n",
    "\n",
    "ETA: 3 sec"
   ]
  },
  {
   "cell_type": "code",
   "execution_count": 4,
   "metadata": {},
   "outputs": [],
   "source": [
    "calendar=pd.read_csv('Dataset/calendar.csv',index_col = False, delimiter = ',')\n",
    "\n",
    "# step 1: remove dollar sign and convert to float\n",
    "\n",
    "calendar['price'] = calendar['price'].str.replace('$', '').str.replace(',','').astype(float)\n",
    "\n",
    "# step 2: export csv\n",
    "\n",
    "calendar.to_csv('./Clean/calendar.csv', encoding='utf-8', index=False)\n"
   ]
  },
  {
   "cell_type": "markdown",
   "metadata": {},
   "source": [
    "Clean Reviews and Export\n",
    "\n",
    "ETA: 30 sec"
   ]
  },
  {
   "cell_type": "code",
   "execution_count": 5,
   "metadata": {},
   "outputs": [],
   "source": [
    "reviews=pd.read_csv('Dataset/reviews.csv',index_col = False, delimiter = ',')\n",
    "reviews = reviews.replace(np.nan, None)\n",
    "\n",
    "# step 1: replace None values with empty string\n",
    "\n",
    "reviews['comments'] = reviews['comments'].replace([None], \"\")\n",
    "\n",
    "# step 2: create new sentiment columns\n",
    "\n",
    "reviews[\"sentiment\"] = reviews[\"comments\"].apply(get_sentiment)\n",
    "reviews[\"sentiment_label\"] = reviews[\"sentiment\"].apply(get_sentiment_label)\n",
    "\n",
    "# step 3: export csv\n",
    "\n",
    "reviews.to_csv('./Clean/reviews.csv', encoding='utf-8', index=False)\n"
   ]
  },
  {
   "cell_type": "markdown",
   "metadata": {},
   "source": [
    "Clean Listings and Export\n",
    "\n",
    "ETA: 5 sec"
   ]
  },
  {
   "cell_type": "code",
   "execution_count": 6,
   "metadata": {},
   "outputs": [],
   "source": [
    "listings=pd.read_csv('Dataset/listings.csv',index_col = False, delimiter = ',')\n",
    "listings = listings.replace(np.nan, None)\n",
    "\n",
    "# step 1: remove dollar sign and convert to float for \n",
    "#   price, weekly_price, security_deposit, cleaning_fee, and extra_people\n",
    "\n",
    "listings['price'] = listings['price'].str.replace('$', '').str.replace(',','').astype(float)\n",
    "listings['weekly_price'] = listings['weekly_price'].str.replace('$', '').str.replace(',','').astype(float)\n",
    "listings['security_deposit'] = listings['security_deposit'].str.replace('$', '').str.replace(',','').astype(float)\n",
    "listings['cleaning_fee'] = listings['cleaning_fee'].str.replace('$', '').str.replace(',','').astype(float)\n",
    "listings['extra_people'] = listings['extra_people'].str.replace('$', '').str.replace(',','').astype(float)\n",
    "\n",
    "# step 2: remove percent sign and convert to float for \n",
    "#   host_response_rate and host_acceptance_rate\n",
    "\n",
    "listings['host_response_rate'] = listings['host_response_rate'].str.replace('%', '').astype(float)\n",
    "listings['host_acceptance_rate'] = listings['host_acceptance_rate'].str.replace('%', '').astype(float)\n",
    "\n",
    "# step 3: convert t and f strings to 1 and 0 for boolean cols\n",
    "\n",
    "bool_cols = [\n",
    "    'host_is_superhost',\n",
    "    'host_has_profile_pic',\n",
    "    'host_identity_verified',\n",
    "    'is_location_exact',\n",
    "    'has_availability',\n",
    "    'requires_license',\n",
    "    'instant_bookable',\n",
    "    'require_guest_profile_picture',\n",
    "    'require_guest_phone_verification'\n",
    "]\n",
    "\n",
    "for cols in bool_cols:\n",
    "    listings[cols] = listings[cols].replace({ 't': 1, 'f': 0 })\n",
    "\n",
    "# step 4: replace None values with empty string\n",
    "\n",
    "listings['summary'] = listings['summary'].replace([None], \"\")\n",
    "listings['space'] = listings['space'].replace([None], \"\")\n",
    "listings['description'] = listings['description'].replace([None], \"\")\n",
    "\n",
    "# step 5: create new sentiment columns\n",
    "\n",
    "listings[\"summary_sentiment\"] = listings[\"summary\"].apply(get_sentiment)\n",
    "listings[\"space_sentiment\"] = listings[\"space\"].apply(get_sentiment)\n",
    "listings[\"description_sentiment\"] = listings[\"description\"].apply(get_sentiment)\n",
    "\n",
    "# step 6: export csv\n",
    "\n",
    "listings.to_csv('./Clean/listings.csv', encoding='utf-8', index=False)"
   ]
  }
 ],
 "metadata": {
  "kernelspec": {
   "display_name": "Python 3.10.4 ('ADS500B')",
   "language": "python",
   "name": "python3"
  },
  "language_info": {
   "codemirror_mode": {
    "name": "ipython",
    "version": 3
   },
   "file_extension": ".py",
   "mimetype": "text/x-python",
   "name": "python",
   "nbconvert_exporter": "python",
   "pygments_lexer": "ipython3",
   "version": "3.10.4"
  },
  "orig_nbformat": 4,
  "vscode": {
   "interpreter": {
    "hash": "b67baf7d77b2e4322c694a7cdbefbe104fc7a417c712774226af2226d547f1c9"
   }
  }
 },
 "nbformat": 4,
 "nbformat_minor": 2
}
