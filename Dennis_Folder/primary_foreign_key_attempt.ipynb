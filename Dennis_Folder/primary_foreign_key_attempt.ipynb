{
 "cells": [
  {
   "cell_type": "code",
   "execution_count": null,
   "metadata": {},
   "outputs": [],
   "source": [
    "# Function for adding foreign keys\n",
    "\n",
    "def add_foreign_keys(connection, string):\n",
    "\n",
    "    try:                  \n",
    "        if connection.is_connected():\n",
    "            cursor = connection.cursor()\n",
    "        else:\n",
    "            connection = connect_to_msql(f'{string}')\n",
    "            cursor = connection.cursor()\n",
    "        cursor.execute(\"USE Airbnb_DB;\")\n",
    "        cursor.execute(\"SELECT database();\")\n",
    "\n",
    "        record = cursor.fetchone()\n",
    "        print(\"You're connected to database: \", record)\n",
    "\n",
    "        print('Adding FKs to listings table....')\n",
    "                        \n",
    "        # cursor.execute(\"ALTER TABLE listings\\\n",
    "        #     ADD FOREIGN KEY (review_id) REFERENCES reviews(id);\")\n",
    "        \n",
    "        # cursor.execute(\"ALTER TABLE listings\\\n",
    "        #     ADD FOREIGN KEY (calendar_id) REFERENCES calendar(id);\")\n",
    "        \n",
    "        print(\"FK for reviews and calendar is added to listings....\")\n",
    "\n",
    "        cursor.execute(\"ALTER TABLE reviews\\\n",
    "            ADD FOREIGN KEY (listing_id) REFERENCES listings(id);\")\n",
    "\n",
    "        print(\"FK for listings is added to reviews....\")\n",
    "        \n",
    "        # cursor.execute(\"ALTER TABLE calendar\\\n",
    "        #     ADD FOREIGN KEY (listing_id) REFERENCES listings(id);\")\n",
    "\n",
    "        print(\"FK for listings is added to calendar....\")\n",
    "        \n",
    "        # for i,row in calendar.iterrows():\n",
    "        #     sql = \"INSERT INTO Airbnb_DB.calendar VALUES (%s,%s,%s,%s)\" # %S means string interpolation\n",
    "        #     cursor.execute(sql, tuple(row))\n",
    "        #     conn.commit() # since connection is not auto committed by default\n",
    "        \n",
    "        # print(\"Number of records inserted into calendar table: \", i + 1)\n",
    "    except Error as e:\n",
    "                print(\"Error while connecting to MySQL\", e)\n",
    "\n",
    "# How to call function\n",
    "\n",
    "add_foreign_keys(conn, 'Airbnb_DB')"
   ]
  }
 ],
 "metadata": {
  "language_info": {
   "name": "python"
  },
  "orig_nbformat": 4
 },
 "nbformat": 4,
 "nbformat_minor": 2
}
