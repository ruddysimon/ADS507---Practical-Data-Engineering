{
 "cells": [
  {
   "cell_type": "code",
   "execution_count": 1,
   "id": "64c263f4",
   "metadata": {},
   "outputs": [],
   "source": [
    "import numpy as np\n",
    "import pandas as pd"
   ]
  },
  {
   "cell_type": "code",
   "execution_count": 4,
   "id": "7919ba66",
   "metadata": {},
   "outputs": [],
   "source": [
    "original_calendar_df = pd.read_csv('calendar.csv')\n",
    "original_reviews_df = pd.read_csv('reviews.csv')\n",
    "original_listings_dff = pd.read_csv('listings.csv')\n"
   ]
  },
  {
   "cell_type": "code",
   "execution_count": 5,
   "id": "631676c7",
   "metadata": {},
   "outputs": [
    {
     "data": {
      "text/plain": [
       "1393570"
      ]
     },
     "execution_count": 5,
     "metadata": {},
     "output_type": "execute_result"
    }
   ],
   "source": [
    "max(original_calendar_df.shape[0],original_reviews_df.shape[0],original_listings_df.shape[0])"
   ]
  },
  {
   "cell_type": "code",
   "execution_count": 6,
   "id": "b8b2f206",
   "metadata": {},
   "outputs": [
    {
     "data": {
      "text/plain": [
       "(1393570, 4)"
      ]
     },
     "execution_count": 6,
     "metadata": {},
     "output_type": "execute_result"
    }
   ],
   "source": [
    "original_calendar_df.shape"
   ]
  },
  {
   "cell_type": "code",
   "execution_count": 11,
   "id": "2999914c",
   "metadata": {},
   "outputs": [
    {
     "data": {
      "text/plain": [
       "(84849, 6)"
      ]
     },
     "execution_count": 11,
     "metadata": {},
     "output_type": "execute_result"
    }
   ],
   "source": [
    "original_reviews_df.shape"
   ]
  },
  {
   "cell_type": "code",
   "execution_count": 12,
   "id": "550b2634",
   "metadata": {},
   "outputs": [
    {
     "data": {
      "text/plain": [
       "(3818, 92)"
      ]
     },
     "execution_count": 12,
     "metadata": {},
     "output_type": "execute_result"
    }
   ],
   "source": [
    "original_listings_df.shape"
   ]
  },
  {
   "cell_type": "code",
   "execution_count": 7,
   "id": "cfd2b61a",
   "metadata": {},
   "outputs": [
    {
     "name": "stdout",
     "output_type": "stream",
     "text": [
      "sample ratio is:  0.07175814634356366\n"
     ]
    }
   ],
   "source": [
    "# t_size target size for the data\n",
    "t_size = 100000\n",
    "sample_ratio = t_size/original_calendar_df.shape[0]\n",
    "print('sample ratio is: ', sample_ratio)"
   ]
  },
  {
   "cell_type": "code",
   "execution_count": 8,
   "id": "ef421640",
   "metadata": {},
   "outputs": [],
   "source": [
    "sampled_calendar_df = original_calendar_df.apply(lambda x: x.sample(frac=sample_ratio))\n"
   ]
  },
  {
   "cell_type": "code",
   "execution_count": 9,
   "id": "f9e47913",
   "metadata": {},
   "outputs": [
    {
     "data": {
      "text/plain": [
       "(359069, 4)"
      ]
     },
     "execution_count": 9,
     "metadata": {},
     "output_type": "execute_result"
    }
   ],
   "source": [
    "sampled_calendar_df .shape"
   ]
  },
  {
   "cell_type": "code",
   "execution_count": 10,
   "id": "44697ed0",
   "metadata": {},
   "outputs": [],
   "source": [
    "sampled_calendar_df.to_csv('sampled_calendar_df.csv')"
   ]
  },
  {
   "cell_type": "code",
   "execution_count": null,
   "id": "c996e29b",
   "metadata": {},
   "outputs": [],
   "source": []
  }
 ],
 "metadata": {
  "kernelspec": {
   "display_name": "Python 3 (ipykernel)",
   "language": "python",
   "name": "python3"
  },
  "language_info": {
   "codemirror_mode": {
    "name": "ipython",
    "version": 3
   },
   "file_extension": ".py",
   "mimetype": "text/x-python",
   "name": "python",
   "nbconvert_exporter": "python",
   "pygments_lexer": "ipython3",
   "version": "3.9.7"
  }
 },
 "nbformat": 4,
 "nbformat_minor": 5
}
