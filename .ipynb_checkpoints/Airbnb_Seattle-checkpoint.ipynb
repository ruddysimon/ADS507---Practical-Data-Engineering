{
 "cells": [
  {
   "cell_type": "code",
   "execution_count": 78,
   "id": "6221109e",
   "metadata": {},
   "outputs": [
    {
     "name": "stdout",
     "output_type": "stream",
     "text": [
      "Collecting textblob\n",
      "  Downloading textblob-0.17.1-py2.py3-none-any.whl (636 kB)\n",
      "\u001b[2K     \u001b[90m━━━━━━━━━━━━━━━━━━━━━━━━━━━━━━━━━━━━━━━\u001b[0m \u001b[32m636.8/636.8 kB\u001b[0m \u001b[31m6.7 MB/s\u001b[0m eta \u001b[36m0:00:00\u001b[0m00:01\u001b[0m00:01\u001b[0m\n",
      "\u001b[?25hRequirement already satisfied: nltk>=3.1 in /opt/anaconda3/lib/python3.9/site-packages (from textblob) (3.7)\n",
      "Requirement already satisfied: joblib in /opt/anaconda3/lib/python3.9/site-packages (from nltk>=3.1->textblob) (1.1.0)\n",
      "Requirement already satisfied: regex>=2021.8.3 in /opt/anaconda3/lib/python3.9/site-packages (from nltk>=3.1->textblob) (2022.7.9)\n",
      "Requirement already satisfied: click in /opt/anaconda3/lib/python3.9/site-packages (from nltk>=3.1->textblob) (8.0.4)\n",
      "Requirement already satisfied: tqdm in /opt/anaconda3/lib/python3.9/site-packages (from nltk>=3.1->textblob) (4.64.1)\n",
      "Installing collected packages: textblob\n",
      "Successfully installed textblob-0.17.1\n"
     ]
    }
   ],
   "source": [
    "!pip install textblob "
   ]
  },
  {
   "cell_type": "code",
   "execution_count": 37,
   "id": "da87bfad",
   "metadata": {},
   "outputs": [],
   "source": [
    "# Import dependencies\n",
    "import pandas as pd\n",
    "import numpy as np\n",
    "import pymysql as mysql\n",
    "import matplotlib.pyplot as plt\n",
    "import seaborn as sns\n",
    "import os\n",
    "import warnings\n",
    "import getpass\n",
    "warnings.filterwarnings('ignore')"
   ]
  },
  {
   "cell_type": "markdown",
   "id": "69ecd3df",
   "metadata": {},
   "source": [
    "### Connecting pandas to MySQL database"
   ]
  },
  {
   "cell_type": "code",
   "execution_count": 13,
   "id": "e23c355d",
   "metadata": {},
   "outputs": [
    {
     "name": "stdout",
     "output_type": "stream",
     "text": [
      "Enter password:········\n",
      "  Tables_in_airbnb_db\n",
      "0            calendar\n",
      "1            listings\n",
      "2             reviews\n"
     ]
    }
   ],
   "source": [
    "conn = mysql.connect(host='localhost',\n",
    "                    port = int(3306),\n",
    "                    user = 'root',\n",
    "                    passwd=getpass.getpass('Enter password:'),\n",
    "                    db=\"Airbnb_DB\")\n",
    "\n",
    "df = pd.read_sql_query(\"Show tables \", conn)\n",
    "print(df)"
   ]
  },
  {
   "cell_type": "markdown",
   "id": "6c21b08b",
   "metadata": {},
   "source": [
    "# Calendar"
   ]
  },
  {
   "cell_type": "code",
   "execution_count": 49,
   "id": "96ca37f2",
   "metadata": {},
   "outputs": [
    {
     "data": {
      "text/html": [
       "<div>\n",
       "<style scoped>\n",
       "    .dataframe tbody tr th:only-of-type {\n",
       "        vertical-align: middle;\n",
       "    }\n",
       "\n",
       "    .dataframe tbody tr th {\n",
       "        vertical-align: top;\n",
       "    }\n",
       "\n",
       "    .dataframe thead th {\n",
       "        text-align: right;\n",
       "    }\n",
       "</style>\n",
       "<table border=\"1\" class=\"dataframe\">\n",
       "  <thead>\n",
       "    <tr style=\"text-align: right;\">\n",
       "      <th></th>\n",
       "      <th>listing_id</th>\n",
       "      <th>date</th>\n",
       "      <th>available</th>\n",
       "      <th>price</th>\n",
       "    </tr>\n",
       "  </thead>\n",
       "  <tbody>\n",
       "    <tr>\n",
       "      <th>0</th>\n",
       "      <td>241032</td>\n",
       "      <td>2016-01-04</td>\n",
       "      <td>t</td>\n",
       "      <td>$85.00</td>\n",
       "    </tr>\n",
       "    <tr>\n",
       "      <th>1</th>\n",
       "      <td>241032</td>\n",
       "      <td>2016-01-05</td>\n",
       "      <td>t</td>\n",
       "      <td>$85.00</td>\n",
       "    </tr>\n",
       "    <tr>\n",
       "      <th>2</th>\n",
       "      <td>241032</td>\n",
       "      <td>2016-01-06</td>\n",
       "      <td>f</td>\n",
       "      <td>None</td>\n",
       "    </tr>\n",
       "    <tr>\n",
       "      <th>3</th>\n",
       "      <td>241032</td>\n",
       "      <td>2016-01-07</td>\n",
       "      <td>f</td>\n",
       "      <td>None</td>\n",
       "    </tr>\n",
       "    <tr>\n",
       "      <th>4</th>\n",
       "      <td>241032</td>\n",
       "      <td>2016-01-08</td>\n",
       "      <td>f</td>\n",
       "      <td>None</td>\n",
       "    </tr>\n",
       "  </tbody>\n",
       "</table>\n",
       "</div>"
      ],
      "text/plain": [
       "   listing_id        date available    price\n",
       "0      241032  2016-01-04         t  $85.00 \n",
       "1      241032  2016-01-05         t  $85.00 \n",
       "2      241032  2016-01-06         f     None\n",
       "3      241032  2016-01-07         f     None\n",
       "4      241032  2016-01-08         f     None"
      ]
     },
     "execution_count": 49,
     "metadata": {},
     "output_type": "execute_result"
    }
   ],
   "source": [
    "# Sql statement to extract the Calender dataset\n",
    "cal_df = pd.read_sql(\"select * from calendar\", conn)\n",
    "cal_df.head(5)"
   ]
  },
  {
   "cell_type": "markdown",
   "id": "5343a00d",
   "metadata": {},
   "source": [
    "### EDA Analysis"
   ]
  },
  {
   "cell_type": "code",
   "execution_count": 50,
   "id": "e3c3f523",
   "metadata": {},
   "outputs": [
    {
     "data": {
      "text/plain": [
       "listing_id     int64\n",
       "date          object\n",
       "available     object\n",
       "price         object\n",
       "dtype: object"
      ]
     },
     "execution_count": 50,
     "metadata": {},
     "output_type": "execute_result"
    }
   ],
   "source": [
    "cal_df.dtypes"
   ]
  },
  {
   "cell_type": "code",
   "execution_count": 51,
   "id": "779e48f5",
   "metadata": {},
   "outputs": [],
   "source": [
    "# change the data type\n",
    "cal_df['date'] = pd.to_datetime(cal_df['date'])\n",
    "\n",
    "# remove dollar sign and convert to float\n",
    "cal_df['price'] = cal_df['price'].str.replace('$', '').str.replace(',','').astype(float)"
   ]
  },
  {
   "cell_type": "code",
   "execution_count": 52,
   "id": "7ac72fe4",
   "metadata": {},
   "outputs": [
    {
     "data": {
      "text/plain": [
       "listing_id             int64\n",
       "date          datetime64[ns]\n",
       "available             object\n",
       "price                float64\n",
       "dtype: object"
      ]
     },
     "execution_count": 52,
     "metadata": {},
     "output_type": "execute_result"
    }
   ],
   "source": [
    "cal_df.dtypes"
   ]
  },
  {
   "cell_type": "code",
   "execution_count": 29,
   "id": "4ec25ac3",
   "metadata": {},
   "outputs": [
    {
     "name": "stdout",
     "output_type": "stream",
     "text": [
      "calendar dataframe shape (1048575, 4)\n"
     ]
    }
   ],
   "source": [
    "# shape of the dataframe\n",
    "print(f'calendar dataframe shape {cal_df.shape}')"
   ]
  },
  {
   "cell_type": "code",
   "execution_count": 30,
   "id": "0ae6563f",
   "metadata": {},
   "outputs": [
    {
     "data": {
      "text/plain": [
       "listing_id         0\n",
       "date               0\n",
       "available          0\n",
       "price         348713\n",
       "dtype: int64"
      ]
     },
     "execution_count": 30,
     "metadata": {},
     "output_type": "execute_result"
    }
   ],
   "source": [
    "# print the null values of calendar dataset\n",
    "cal_df.isnull().sum()"
   ]
  },
  {
   "cell_type": "markdown",
   "id": "4be66b32",
   "metadata": {},
   "source": [
    "In the calendar dataset we have 348713 null values for the `price` column which, indicates that the listing was unavailable for particular days. We do not consider removing those columns."
   ]
  },
  {
   "cell_type": "code",
   "execution_count": 75,
   "id": "99fd44c4",
   "metadata": {},
   "outputs": [
    {
     "name": "stdout",
     "output_type": "stream",
     "text": [
      "The first date of listing is: 2016-01-04 00:00:00\n",
      "The first date of listing is: 2017-01-02 00:00:00\n"
     ]
    }
   ],
   "source": [
    "# let's find out the first date and last of listing in calendar dataset \n",
    "first_date = cal_df[\"date\"].min()\n",
    "last_date = cal_df['date'].max()\n",
    "print(f'The first date of listing is: {first_date}')\n",
    "print(f'The first date of listing is: {last_date}')\n"
   ]
  },
  {
   "cell_type": "markdown",
   "id": "dd255aee",
   "metadata": {},
   "source": [
    "### What is the average price of listings? "
   ]
  },
  {
   "cell_type": "code",
   "execution_count": 63,
   "id": "e052dc30",
   "metadata": {},
   "outputs": [
    {
     "data": {
      "text/plain": [
       "Text(0, 0.5, 'Price ($)')"
      ]
     },
     "execution_count": 63,
     "metadata": {},
     "output_type": "execute_result"
    },
    {
     "data": {
      "image/png": "[encoded data removed]",
      "text/plain": [
       "<Figure size 640x480 with 1 Axes>"
      ]
     },
     "metadata": {},
     "output_type": "display_data"
    }
   ],
   "source": [
    "average_price = cal_df['price'].mean()\n",
    "\n",
    "ax = sns.lineplot(x = \"date\", y = \"price\", data = cal_df)\n",
    "ax.axhline(y=average_price, color='r', linestyle='--', label='Average Price')\n",
    "plt.title('Price vs Time')\n",
    "plt.xlabel('Time')\n",
    "plt.ylabel('Price ($)')"
   ]
  },
  {
   "cell_type": "markdown",
   "id": "3e69c199",
   "metadata": {},
   "source": [
    "As we can see from the above chart, the average price for listing is around 140$. The prices goes up during summer (June, July, August, and September) which is an indication of seasonality. "
   ]
  },
  {
   "cell_type": "markdown",
   "id": "e13035d9",
   "metadata": {},
   "source": [
    "### Which months have the highest availability during the year? "
   ]
  },
  {
   "cell_type": "code",
   "execution_count": 67,
   "id": "0e8b5698",
   "metadata": {},
   "outputs": [
    {
     "data": {
      "text/html": [
       "<div>\n",
       "<style scoped>\n",
       "    .dataframe tbody tr th:only-of-type {\n",
       "        vertical-align: middle;\n",
       "    }\n",
       "\n",
       "    .dataframe tbody tr th {\n",
       "        vertical-align: top;\n",
       "    }\n",
       "\n",
       "    .dataframe thead th {\n",
       "        text-align: right;\n",
       "    }\n",
       "</style>\n",
       "<table border=\"1\" class=\"dataframe\">\n",
       "  <thead>\n",
       "    <tr style=\"text-align: right;\">\n",
       "      <th></th>\n",
       "      <th>listing_id</th>\n",
       "      <th>date</th>\n",
       "      <th>available</th>\n",
       "      <th>price</th>\n",
       "    </tr>\n",
       "  </thead>\n",
       "  <tbody>\n",
       "    <tr>\n",
       "      <th>0</th>\n",
       "      <td>241032</td>\n",
       "      <td>2016-01-04</td>\n",
       "      <td>1</td>\n",
       "      <td>85.0</td>\n",
       "    </tr>\n",
       "    <tr>\n",
       "      <th>1</th>\n",
       "      <td>241032</td>\n",
       "      <td>2016-01-05</td>\n",
       "      <td>1</td>\n",
       "      <td>85.0</td>\n",
       "    </tr>\n",
       "    <tr>\n",
       "      <th>2</th>\n",
       "      <td>241032</td>\n",
       "      <td>2016-01-06</td>\n",
       "      <td>0</td>\n",
       "      <td>NaN</td>\n",
       "    </tr>\n",
       "    <tr>\n",
       "      <th>3</th>\n",
       "      <td>241032</td>\n",
       "      <td>2016-01-07</td>\n",
       "      <td>0</td>\n",
       "      <td>NaN</td>\n",
       "    </tr>\n",
       "    <tr>\n",
       "      <th>4</th>\n",
       "      <td>241032</td>\n",
       "      <td>2016-01-08</td>\n",
       "      <td>0</td>\n",
       "      <td>NaN</td>\n",
       "    </tr>\n",
       "    <tr>\n",
       "      <th>...</th>\n",
       "      <td>...</td>\n",
       "      <td>...</td>\n",
       "      <td>...</td>\n",
       "      <td>...</td>\n",
       "    </tr>\n",
       "    <tr>\n",
       "      <th>1048570</th>\n",
       "      <td>5386937</td>\n",
       "      <td>2016-10-20</td>\n",
       "      <td>1</td>\n",
       "      <td>120.0</td>\n",
       "    </tr>\n",
       "    <tr>\n",
       "      <th>1048571</th>\n",
       "      <td>5386937</td>\n",
       "      <td>2016-10-21</td>\n",
       "      <td>1</td>\n",
       "      <td>120.0</td>\n",
       "    </tr>\n",
       "    <tr>\n",
       "      <th>1048572</th>\n",
       "      <td>5386937</td>\n",
       "      <td>2016-10-22</td>\n",
       "      <td>1</td>\n",
       "      <td>120.0</td>\n",
       "    </tr>\n",
       "    <tr>\n",
       "      <th>1048573</th>\n",
       "      <td>5386937</td>\n",
       "      <td>2016-10-23</td>\n",
       "      <td>1</td>\n",
       "      <td>120.0</td>\n",
       "    </tr>\n",
       "    <tr>\n",
       "      <th>1048574</th>\n",
       "      <td>5386937</td>\n",
       "      <td>2016-10-24</td>\n",
       "      <td>1</td>\n",
       "      <td>120.0</td>\n",
       "    </tr>\n",
       "  </tbody>\n",
       "</table>\n",
       "<p>1048575 rows × 4 columns</p>\n",
       "</div>"
      ],
      "text/plain": [
       "         listing_id       date  available  price\n",
       "0            241032 2016-01-04          1   85.0\n",
       "1            241032 2016-01-05          1   85.0\n",
       "2            241032 2016-01-06          0    NaN\n",
       "3            241032 2016-01-07          0    NaN\n",
       "4            241032 2016-01-08          0    NaN\n",
       "...             ...        ...        ...    ...\n",
       "1048570     5386937 2016-10-20          1  120.0\n",
       "1048571     5386937 2016-10-21          1  120.0\n",
       "1048572     5386937 2016-10-22          1  120.0\n",
       "1048573     5386937 2016-10-23          1  120.0\n",
       "1048574     5386937 2016-10-24          1  120.0\n",
       "\n",
       "[1048575 rows x 4 columns]"
      ]
     },
     "execution_count": 67,
     "metadata": {},
     "output_type": "execute_result"
    }
   ],
   "source": [
    "cal_df['available'] = cal_df['available'].replace({ 't': 1, 'f': 0 })\n",
    "cal_df"
   ]
  },
  {
   "cell_type": "code",
   "execution_count": 70,
   "id": "98df984b",
   "metadata": {},
   "outputs": [
    {
     "data": {
      "text/plain": [
       "<AxesSubplot:xlabel='date'>"
      ]
     },
     "execution_count": 70,
     "metadata": {},
     "output_type": "execute_result"
    },
    {
     "data": {
      "image/png": "[encoded data removed]",
      "text/plain": [
       "<Figure size 640x480 with 1 Axes>"
      ]
     },
     "metadata": {},
     "output_type": "display_data"
    }
   ],
   "source": [
    "availability_df = cal_df.groupby('date').sum()['available']\n",
    "availability_df.plot(kind='line')"
   ]
  },
  {
   "cell_type": "markdown",
   "id": "0a581157",
   "metadata": {},
   "source": [
    "Booking numbers start increasing from Jan till end of March, the we can see a huge drop in April. Another drop we can see in July but, after July the booking rate starts increasing"
   ]
  },
  {
   "cell_type": "markdown",
   "id": "973a40f2",
   "metadata": {},
   "source": [
    "# Reviews"
   ]
  },
  {
   "cell_type": "code",
   "execution_count": 94,
   "id": "4327d671",
   "metadata": {},
   "outputs": [
    {
     "data": {
      "text/html": [
       "<div>\n",
       "<style scoped>\n",
       "    .dataframe tbody tr th:only-of-type {\n",
       "        vertical-align: middle;\n",
       "    }\n",
       "\n",
       "    .dataframe tbody tr th {\n",
       "        vertical-align: top;\n",
       "    }\n",
       "\n",
       "    .dataframe thead th {\n",
       "        text-align: right;\n",
       "    }\n",
       "</style>\n",
       "<table border=\"1\" class=\"dataframe\">\n",
       "  <thead>\n",
       "    <tr style=\"text-align: right;\">\n",
       "      <th></th>\n",
       "      <th>listing_id</th>\n",
       "      <th>id</th>\n",
       "      <th>date</th>\n",
       "      <th>reviewer_id</th>\n",
       "      <th>reviewer_name</th>\n",
       "      <th>comments</th>\n",
       "    </tr>\n",
       "  </thead>\n",
       "  <tbody>\n",
       "    <tr>\n",
       "      <th>0</th>\n",
       "      <td>7202016</td>\n",
       "      <td>38917982</td>\n",
       "      <td>2015-07-19</td>\n",
       "      <td>28943674</td>\n",
       "      <td>Bianca</td>\n",
       "      <td>Cute and cozy place. Perfect location to every...</td>\n",
       "    </tr>\n",
       "    <tr>\n",
       "      <th>1</th>\n",
       "      <td>7202016</td>\n",
       "      <td>39087409</td>\n",
       "      <td>2015-07-20</td>\n",
       "      <td>32440555</td>\n",
       "      <td>Frank</td>\n",
       "      <td>Kelly has a great room in a very central locat...</td>\n",
       "    </tr>\n",
       "    <tr>\n",
       "      <th>2</th>\n",
       "      <td>7202016</td>\n",
       "      <td>39820030</td>\n",
       "      <td>2015-07-26</td>\n",
       "      <td>37722850</td>\n",
       "      <td>Ian</td>\n",
       "      <td>Very spacious apartment, and in a great neighb...</td>\n",
       "    </tr>\n",
       "    <tr>\n",
       "      <th>3</th>\n",
       "      <td>7202016</td>\n",
       "      <td>40813543</td>\n",
       "      <td>2015-08-02</td>\n",
       "      <td>33671805</td>\n",
       "      <td>George</td>\n",
       "      <td>Close to Seattle Center and all it has to offe...</td>\n",
       "    </tr>\n",
       "    <tr>\n",
       "      <th>4</th>\n",
       "      <td>7202016</td>\n",
       "      <td>41986501</td>\n",
       "      <td>2015-08-10</td>\n",
       "      <td>34959538</td>\n",
       "      <td>Ming</td>\n",
       "      <td>Kelly was a great host and very accommodating ...</td>\n",
       "    </tr>\n",
       "  </tbody>\n",
       "</table>\n",
       "</div>"
      ],
      "text/plain": [
       "   listing_id        id        date  reviewer_id reviewer_name  \\\n",
       "0     7202016  38917982  2015-07-19     28943674        Bianca   \n",
       "1     7202016  39087409  2015-07-20     32440555         Frank   \n",
       "2     7202016  39820030  2015-07-26     37722850           Ian   \n",
       "3     7202016  40813543  2015-08-02     33671805        George   \n",
       "4     7202016  41986501  2015-08-10     34959538          Ming   \n",
       "\n",
       "                                            comments  \n",
       "0  Cute and cozy place. Perfect location to every...  \n",
       "1  Kelly has a great room in a very central locat...  \n",
       "2  Very spacious apartment, and in a great neighb...  \n",
       "3  Close to Seattle Center and all it has to offe...  \n",
       "4  Kelly was a great host and very accommodating ...  "
      ]
     },
     "execution_count": 94,
     "metadata": {},
     "output_type": "execute_result"
    }
   ],
   "source": [
    "# Sql statement to extract the Calender dataset\n",
    "rev_df = pd.read_sql(\"select * from reviews\", conn)\n",
    "rev_df.head(5)"
   ]
  },
  {
   "cell_type": "code",
   "execution_count": 95,
   "id": "1d9d8bb4",
   "metadata": {},
   "outputs": [
    {
     "data": {
      "text/html": [
       "<div>\n",
       "<style scoped>\n",
       "    .dataframe tbody tr th:only-of-type {\n",
       "        vertical-align: middle;\n",
       "    }\n",
       "\n",
       "    .dataframe tbody tr th {\n",
       "        vertical-align: top;\n",
       "    }\n",
       "\n",
       "    .dataframe thead th {\n",
       "        text-align: right;\n",
       "    }\n",
       "</style>\n",
       "<table border=\"1\" class=\"dataframe\">\n",
       "  <thead>\n",
       "    <tr style=\"text-align: right;\">\n",
       "      <th></th>\n",
       "      <th>listing_id</th>\n",
       "      <th>id</th>\n",
       "      <th>date</th>\n",
       "      <th>reviewer_id</th>\n",
       "      <th>reviewer_name</th>\n",
       "      <th>comments</th>\n",
       "    </tr>\n",
       "  </thead>\n",
       "  <tbody>\n",
       "    <tr>\n",
       "      <th>0</th>\n",
       "      <td>7202016</td>\n",
       "      <td>38917982</td>\n",
       "      <td>2015-07-19</td>\n",
       "      <td>28943674</td>\n",
       "      <td>Bianca</td>\n",
       "      <td>Cute and cozy place. Perfect location to every...</td>\n",
       "    </tr>\n",
       "    <tr>\n",
       "      <th>1</th>\n",
       "      <td>7202016</td>\n",
       "      <td>39087409</td>\n",
       "      <td>2015-07-20</td>\n",
       "      <td>32440555</td>\n",
       "      <td>Frank</td>\n",
       "      <td>Kelly has a great room in a very central locat...</td>\n",
       "    </tr>\n",
       "    <tr>\n",
       "      <th>2</th>\n",
       "      <td>7202016</td>\n",
       "      <td>39820030</td>\n",
       "      <td>2015-07-26</td>\n",
       "      <td>37722850</td>\n",
       "      <td>Ian</td>\n",
       "      <td>Very spacious apartment, and in a great neighb...</td>\n",
       "    </tr>\n",
       "    <tr>\n",
       "      <th>3</th>\n",
       "      <td>7202016</td>\n",
       "      <td>40813543</td>\n",
       "      <td>2015-08-02</td>\n",
       "      <td>33671805</td>\n",
       "      <td>George</td>\n",
       "      <td>Close to Seattle Center and all it has to offe...</td>\n",
       "    </tr>\n",
       "    <tr>\n",
       "      <th>4</th>\n",
       "      <td>7202016</td>\n",
       "      <td>41986501</td>\n",
       "      <td>2015-08-10</td>\n",
       "      <td>34959538</td>\n",
       "      <td>Ming</td>\n",
       "      <td>Kelly was a great host and very accommodating ...</td>\n",
       "    </tr>\n",
       "  </tbody>\n",
       "</table>\n",
       "</div>"
      ],
      "text/plain": [
       "   listing_id        id        date  reviewer_id reviewer_name  \\\n",
       "0     7202016  38917982  2015-07-19     28943674        Bianca   \n",
       "1     7202016  39087409  2015-07-20     32440555         Frank   \n",
       "2     7202016  39820030  2015-07-26     37722850           Ian   \n",
       "3     7202016  40813543  2015-08-02     33671805        George   \n",
       "4     7202016  41986501  2015-08-10     34959538          Ming   \n",
       "\n",
       "                                            comments  \n",
       "0  Cute and cozy place. Perfect location to every...  \n",
       "1  Kelly has a great room in a very central locat...  \n",
       "2  Very spacious apartment, and in a great neighb...  \n",
       "3  Close to Seattle Center and all it has to offe...  \n",
       "4  Kelly was a great host and very accommodating ...  "
      ]
     },
     "execution_count": 95,
     "metadata": {},
     "output_type": "execute_result"
    }
   ],
   "source": [
    "rev_df.head(5)"
   ]
  },
  {
   "cell_type": "code",
   "execution_count": 96,
   "id": "e12db943",
   "metadata": {},
   "outputs": [
    {
     "name": "stdout",
     "output_type": "stream",
     "text": [
      "calendar dataframe shape (84849, 6)\n"
     ]
    }
   ],
   "source": [
    "# shape of the dataframe\n",
    "print(f'calendar dataframe shape {rev_df.shape}')"
   ]
  },
  {
   "cell_type": "code",
   "execution_count": 97,
   "id": "1d373783",
   "metadata": {},
   "outputs": [
    {
     "data": {
      "text/plain": [
       "listing_id        0\n",
       "id                0\n",
       "date              0\n",
       "reviewer_id       0\n",
       "reviewer_name     0\n",
       "comments         18\n",
       "dtype: int64"
      ]
     },
     "execution_count": 97,
     "metadata": {},
     "output_type": "execute_result"
    }
   ],
   "source": [
    "rev_df.isnull().sum()"
   ]
  },
  {
   "cell_type": "markdown",
   "id": "af82459c",
   "metadata": {},
   "source": [
    "We have 18 null values in the `comments` column. "
   ]
  },
  {
   "cell_type": "markdown",
   "id": "0cb109ca",
   "metadata": {},
   "source": [
    "We have a small number of null values, removing those rows may be a reasonable option. We use dropna() function to remove rows with null values"
   ]
  },
  {
   "cell_type": "code",
   "execution_count": 98,
   "id": "29392b20",
   "metadata": {},
   "outputs": [],
   "source": [
    "# drop null values in comments column\n",
    "rev_df_clean = rev_df.dropna(subset=['comments'])"
   ]
  },
  {
   "cell_type": "code",
   "execution_count": 99,
   "id": "4a001978",
   "metadata": {},
   "outputs": [
    {
     "name": "stdout",
     "output_type": "stream",
     "text": [
      "calendar dataframe shape (84831, 6)\n"
     ]
    }
   ],
   "source": [
    "# Check the shape of the dataframe after removing the null values\n",
    "print(f'calendar dataframe shape {rev_df_clean.shape}')"
   ]
  },
  {
   "cell_type": "code",
   "execution_count": 102,
   "id": "0467cfc3",
   "metadata": {},
   "outputs": [
    {
     "data": {
      "text/html": [
       "<div>\n",
       "<style scoped>\n",
       "    .dataframe tbody tr th:only-of-type {\n",
       "        vertical-align: middle;\n",
       "    }\n",
       "\n",
       "    .dataframe tbody tr th {\n",
       "        vertical-align: top;\n",
       "    }\n",
       "\n",
       "    .dataframe thead th {\n",
       "        text-align: right;\n",
       "    }\n",
       "</style>\n",
       "<table border=\"1\" class=\"dataframe\">\n",
       "  <thead>\n",
       "    <tr style=\"text-align: right;\">\n",
       "      <th></th>\n",
       "      <th>listing_id</th>\n",
       "      <th>id</th>\n",
       "      <th>date</th>\n",
       "      <th>reviewer_id</th>\n",
       "      <th>reviewer_name</th>\n",
       "      <th>comments</th>\n",
       "      <th>sentiment</th>\n",
       "      <th>sentiment_label</th>\n",
       "    </tr>\n",
       "  </thead>\n",
       "  <tbody>\n",
       "    <tr>\n",
       "      <th>0</th>\n",
       "      <td>7202016</td>\n",
       "      <td>38917982</td>\n",
       "      <td>2015-07-19</td>\n",
       "      <td>28943674</td>\n",
       "      <td>Bianca</td>\n",
       "      <td>Cute and cozy place. Perfect location to every...</td>\n",
       "      <td>0.433333</td>\n",
       "      <td>positive</td>\n",
       "    </tr>\n",
       "    <tr>\n",
       "      <th>1</th>\n",
       "      <td>7202016</td>\n",
       "      <td>39087409</td>\n",
       "      <td>2015-07-20</td>\n",
       "      <td>32440555</td>\n",
       "      <td>Frank</td>\n",
       "      <td>Kelly has a great room in a very central locat...</td>\n",
       "      <td>0.301136</td>\n",
       "      <td>positive</td>\n",
       "    </tr>\n",
       "    <tr>\n",
       "      <th>2</th>\n",
       "      <td>7202016</td>\n",
       "      <td>39820030</td>\n",
       "      <td>2015-07-26</td>\n",
       "      <td>37722850</td>\n",
       "      <td>Ian</td>\n",
       "      <td>Very spacious apartment, and in a great neighb...</td>\n",
       "      <td>0.410417</td>\n",
       "      <td>positive</td>\n",
       "    </tr>\n",
       "    <tr>\n",
       "      <th>3</th>\n",
       "      <td>7202016</td>\n",
       "      <td>40813543</td>\n",
       "      <td>2015-08-02</td>\n",
       "      <td>33671805</td>\n",
       "      <td>George</td>\n",
       "      <td>Close to Seattle Center and all it has to offe...</td>\n",
       "      <td>0.358333</td>\n",
       "      <td>positive</td>\n",
       "    </tr>\n",
       "    <tr>\n",
       "      <th>4</th>\n",
       "      <td>7202016</td>\n",
       "      <td>41986501</td>\n",
       "      <td>2015-08-10</td>\n",
       "      <td>34959538</td>\n",
       "      <td>Ming</td>\n",
       "      <td>Kelly was a great host and very accommodating ...</td>\n",
       "      <td>0.493485</td>\n",
       "      <td>positive</td>\n",
       "    </tr>\n",
       "    <tr>\n",
       "      <th>...</th>\n",
       "      <td>...</td>\n",
       "      <td>...</td>\n",
       "      <td>...</td>\n",
       "      <td>...</td>\n",
       "      <td>...</td>\n",
       "      <td>...</td>\n",
       "      <td>...</td>\n",
       "      <td>...</td>\n",
       "    </tr>\n",
       "    <tr>\n",
       "      <th>84844</th>\n",
       "      <td>3624990</td>\n",
       "      <td>50436321</td>\n",
       "      <td>2015-10-12</td>\n",
       "      <td>37419458</td>\n",
       "      <td>Ryan</td>\n",
       "      <td>The description and pictures of the apartment ...</td>\n",
       "      <td>0.194844</td>\n",
       "      <td>positive</td>\n",
       "    </tr>\n",
       "    <tr>\n",
       "      <th>84845</th>\n",
       "      <td>3624990</td>\n",
       "      <td>51024875</td>\n",
       "      <td>2015-10-17</td>\n",
       "      <td>6933252</td>\n",
       "      <td>Linda</td>\n",
       "      <td>We had an excellent stay. It was clean and com...</td>\n",
       "      <td>0.311111</td>\n",
       "      <td>positive</td>\n",
       "    </tr>\n",
       "    <tr>\n",
       "      <th>84846</th>\n",
       "      <td>3624990</td>\n",
       "      <td>51511988</td>\n",
       "      <td>2015-10-20</td>\n",
       "      <td>19543701</td>\n",
       "      <td>Jaime</td>\n",
       "      <td>Gran ubicación, cerca de todo lo atractivo del...</td>\n",
       "      <td>0.000000</td>\n",
       "      <td>positive</td>\n",
       "    </tr>\n",
       "    <tr>\n",
       "      <th>84847</th>\n",
       "      <td>3624990</td>\n",
       "      <td>52814482</td>\n",
       "      <td>2015-11-02</td>\n",
       "      <td>24445024</td>\n",
       "      <td>Jørgen</td>\n",
       "      <td>Very good apartement, clean and well sized. Si...</td>\n",
       "      <td>0.216852</td>\n",
       "      <td>positive</td>\n",
       "    </tr>\n",
       "    <tr>\n",
       "      <th>84848</th>\n",
       "      <td>9727246</td>\n",
       "      <td>56429621</td>\n",
       "      <td>2015-12-13</td>\n",
       "      <td>30860360</td>\n",
       "      <td>Stephanie</td>\n",
       "      <td>Breanne was a great host. Check in was easy, s...</td>\n",
       "      <td>0.367302</td>\n",
       "      <td>positive</td>\n",
       "    </tr>\n",
       "  </tbody>\n",
       "</table>\n",
       "<p>84831 rows × 8 columns</p>\n",
       "</div>"
      ],
      "text/plain": [
       "       listing_id        id        date  reviewer_id reviewer_name  \\\n",
       "0         7202016  38917982  2015-07-19     28943674        Bianca   \n",
       "1         7202016  39087409  2015-07-20     32440555         Frank   \n",
       "2         7202016  39820030  2015-07-26     37722850           Ian   \n",
       "3         7202016  40813543  2015-08-02     33671805        George   \n",
       "4         7202016  41986501  2015-08-10     34959538          Ming   \n",
       "...           ...       ...         ...          ...           ...   \n",
       "84844     3624990  50436321  2015-10-12     37419458          Ryan   \n",
       "84845     3624990  51024875  2015-10-17      6933252         Linda   \n",
       "84846     3624990  51511988  2015-10-20     19543701         Jaime   \n",
       "84847     3624990  52814482  2015-11-02     24445024        Jørgen   \n",
       "84848     9727246  56429621  2015-12-13     30860360     Stephanie   \n",
       "\n",
       "                                                comments  sentiment  \\\n",
       "0      Cute and cozy place. Perfect location to every...   0.433333   \n",
       "1      Kelly has a great room in a very central locat...   0.301136   \n",
       "2      Very spacious apartment, and in a great neighb...   0.410417   \n",
       "3      Close to Seattle Center and all it has to offe...   0.358333   \n",
       "4      Kelly was a great host and very accommodating ...   0.493485   \n",
       "...                                                  ...        ...   \n",
       "84844  The description and pictures of the apartment ...   0.194844   \n",
       "84845  We had an excellent stay. It was clean and com...   0.311111   \n",
       "84846  Gran ubicación, cerca de todo lo atractivo del...   0.000000   \n",
       "84847  Very good apartement, clean and well sized. Si...   0.216852   \n",
       "84848  Breanne was a great host. Check in was easy, s...   0.367302   \n",
       "\n",
       "      sentiment_label  \n",
       "0            positive  \n",
       "1            positive  \n",
       "2            positive  \n",
       "3            positive  \n",
       "4            positive  \n",
       "...               ...  \n",
       "84844        positive  \n",
       "84845        positive  \n",
       "84846        positive  \n",
       "84847        positive  \n",
       "84848        positive  \n",
       "\n",
       "[84831 rows x 8 columns]"
      ]
     },
     "execution_count": 102,
     "metadata": {},
     "output_type": "execute_result"
    }
   ],
   "source": [
    "# Sentimental Analysis to find out positive and negative comments\n",
    "from textblob import TextBlob\n",
    "\n",
    "\n",
    "# Define a function to get the sentiment polarity of each comment\n",
    "def get_sentiment(comment):\n",
    "    blob = TextBlob(comment)\n",
    "    return blob.sentiment.polarity\n",
    "\n",
    "# Create a new column with the sentiment label and use the sentiment label function on the \"sentiment\" column\n",
    "rev_df_clean[\"sentiment\"] = rev_df_clean[\"comments\"].apply(get_sentiment)\n",
    "\n",
    "# Define a function to map the polarity score to a \"positive\" or \"negative\" label\n",
    "def get_sentiment_label(score):\n",
    "    if score >= 0:\n",
    "        return \"positive\"\n",
    "    else:\n",
    "        return \"negative\"\n",
    "\n",
    "# Apply the sentiment label function to the \"sentiment\" column and create a new column with the sentiment label\n",
    "rev_df_clean[\"sentiment_label\"] = rev_df_clean[\"sentiment\"].apply(get_sentiment_label)\n",
    "\n",
    "rev_df_clean"
   ]
  },
  {
   "cell_type": "code",
   "execution_count": 105,
   "id": "e69c13c8",
   "metadata": {},
   "outputs": [
    {
     "data": {
      "text/plain": [
       "<AxesSubplot:xlabel='sentiment_label'>"
      ]
     },
     "execution_count": 105,
     "metadata": {},
     "output_type": "execute_result"
    },
    {
     "data": {
      "image/png": "[encoded data removed]",
      "text/plain": [
       "<Figure size 640x480 with 1 Axes>"
      ]
     },
     "metadata": {},
     "output_type": "display_data"
    }
   ],
   "source": [
    "rev_df_clean.groupby('sentiment_label').count()['sentiment'].plot(kind='bar')"
   ]
  },
  {
   "cell_type": "markdown",
   "id": "beb6c26b",
   "metadata": {},
   "source": [
    "As we can see the above bar chart most of the users wrote positive comments for the hosts."
   ]
  },
  {
   "cell_type": "code",
   "execution_count": null,
   "id": "281acc84",
   "metadata": {},
   "outputs": [],
   "source": []
  }
 ],
 "metadata": {
  "kernelspec": {
   "display_name": "Python 3 (ipykernel)",
   "language": "python",
   "name": "python3"
  },
  "language_info": {
   "codemirror_mode": {
    "name": "ipython",
    "version": 3
   },
   "file_extension": ".py",
   "mimetype": "text/x-python",
   "name": "python",
   "nbconvert_exporter": "python",
   "pygments_lexer": "ipython3",
   "version": "3.9.13"
  }
 },
 "nbformat": 4,
 "nbformat_minor": 5
}
