{
 "cells": [
  {
   "cell_type": "code",
   "execution_count": null,
   "metadata": {},
   "outputs": [],
   "source": [
    "#!pip install mysql-connector-python"
   ]
  },
  {
   "cell_type": "code",
   "execution_count": 1,
   "metadata": {},
   "outputs": [],
   "source": [
    "# Import dependencies\n",
    "import pandas as pd\n",
    "import numpy as np\n",
    "import pymysql as mysql\n",
    "import matplotlib.pyplot as plt\n",
    "import os\n",
    "import warnings\n",
    "import getpass\n",
    "import mysql.connector as msql\n",
    "from mysql.connector import Error\n",
    "warnings.filterwarnings('ignore')"
   ]
  },
  {
   "cell_type": "markdown",
   "metadata": {},
   "source": [
    "Import CSV Files"
   ]
  },
  {
   "cell_type": "code",
   "execution_count": 2,
   "metadata": {},
   "outputs": [],
   "source": [
    "calendar=pd.read_csv('Dataset/calendar.csv',index_col = False, delimiter = ',')\n",
    "reviews=pd.read_csv('Dataset/reviews.csv',index_col = False, delimiter = ',')\n",
    "listings=pd.read_csv('Dataset/listings.csv',index_col = False, delimiter = ',')"
   ]
  },
  {
   "cell_type": "code",
   "execution_count": 3,
   "metadata": {},
   "outputs": [
    {
     "name": "stdout",
     "output_type": "stream",
     "text": [
      "calendar dataframe shape (1048575, 4)\n",
      "listings dataframe shape (3818, 92)\n",
      "reviews dataframe shape (84849, 6)\n"
     ]
    }
   ],
   "source": [
    "print(f'calendar dataframe shape {calendar.shape}')\n",
    "print(f'listings dataframe shape {listings.shape}')\n",
    "print(f'reviews dataframe shape {reviews.shape}')"
   ]
  },
  {
   "cell_type": "markdown",
   "metadata": {},
   "source": [
    "Connect to MySQL"
   ]
  },
  {
   "cell_type": "code",
   "execution_count": 4,
   "metadata": {},
   "outputs": [
    {
     "name": "stdout",
     "output_type": "stream",
     "text": [
      "Connected to MySQL...\n"
     ]
    }
   ],
   "source": [
    "def connect_to_msql(database=''):\n",
    "    try:\n",
    "        conn = msql.connect(host='localhost', user='root', password=getpass.getpass('Enter password:'), database=f'{database}')\n",
    "        print(\"Connected to MySQL...\")\n",
    "    except Error as e:\n",
    "        print(\"Error while connecting to MySQL\", e)\n",
    "    return conn\n",
    "\n",
    "# Run initial DB connection\n",
    "conn = connect_to_msql()\n"
   ]
  },
  {
   "cell_type": "markdown",
   "metadata": {},
   "source": [
    "Drop Database"
   ]
  },
  {
   "cell_type": "code",
   "execution_count": 5,
   "metadata": {},
   "outputs": [
    {
     "name": "stdout",
     "output_type": "stream",
     "text": [
      "Database: Airbnb_DB is dropped\n"
     ]
    }
   ],
   "source": [
    "# Function for dropping DB\n",
    "\n",
    "def drop_database(connection, string):\n",
    "    try:\n",
    "        if connection.is_connected():\n",
    "            cursor = connection.cursor()\n",
    "        else: \n",
    "            connection = connect_to_msql()\n",
    "            cursor = connection.cursor()\n",
    "\n",
    "        cursor.execute(f\"DROP DATABASE IF EXISTS {string}\")\n",
    "        print(f\"Database: {string} is dropped\")\n",
    "    except Error as e:\n",
    "        print(\"Error while connecting to MySQL\", e)\n",
    "\n",
    "# How to call function, with conn and DB string\n",
    "\n",
    "drop_database(conn, 'Airbnb_DB')"
   ]
  },
  {
   "cell_type": "markdown",
   "metadata": {},
   "source": [
    "Create Database"
   ]
  },
  {
   "cell_type": "code",
   "execution_count": 6,
   "metadata": {},
   "outputs": [
    {
     "name": "stdout",
     "output_type": "stream",
     "text": [
      "Database: Airbnb_DB has been created...\n"
     ]
    }
   ],
   "source": [
    "# Function for creating DB\n",
    "\n",
    "def create_database(connection, string):\n",
    "    try:\n",
    "        if connection.is_connected():\n",
    "            cursor = connection.cursor()\n",
    "        else:\n",
    "            connection = connect_to_msql()\n",
    "            cursor = connection.cursor()\n",
    "        cursor.execute(f\"CREATE DATABASE {string}\")\n",
    "        print(f\"Database: {string} has been created...\")\n",
    "    except Error as e:\n",
    "        print(f\"Error while creating database: {string}\", e)\n",
    "\n",
    "# How to call function, with conn and DB string\n",
    "\n",
    "create_database(conn, 'Airbnb_DB')"
   ]
  },
  {
   "cell_type": "code",
   "execution_count": 7,
   "metadata": {},
   "outputs": [
    {
     "name": "stdout",
     "output_type": "stream",
     "text": [
      "Foreign Key Checks Disabled...\n"
     ]
    }
   ],
   "source": [
    "# Function to disable foreign key checks\n",
    "\n",
    "def disable_fk_checks(connection):\n",
    "    cursor = connection.cursor()\n",
    "    cursor.execute(\"\"\"\n",
    "        SET FOREIGN_KEY_CHECKS = 0;\n",
    "        SET GLOBAL FOREIGN_KEY_CHECKS = 0;\n",
    "    \"\"\", multi=True)\n",
    "    connection.commit()\n",
    "    print(\"Foreign Key Checks Disabled...\")\n",
    "\n",
    "# Function to enable foreign key checks\n",
    "\n",
    "def enable_fk_checks(connection):\n",
    "    cursor = connection.cursor()\n",
    "    cursor.execute(\"\"\"\n",
    "        SET FOREIGN_KEY_CHECKS = 1;\n",
    "        SET GLOBAL FOREIGN_KEY_CHECKS = 1;\n",
    "    \"\"\", multi=True)\n",
    "    connection.commit()\n",
    "    print(\"Foreign Key Checks Enabled...\")\n",
    "\n",
    "# Function to find unique array values\n",
    "\n",
    "def unique(array):\n",
    "    x = np.array(array)\n",
    "    print(\"Unique list values: \", np.unique(x))\n",
    "    return np.unique(x)\n",
    "\n",
    "# Call disable function with conn\n",
    "\n",
    "disable_fk_checks(conn)"
   ]
  },
  {
   "cell_type": "markdown",
   "metadata": {},
   "source": [
    "Import Listings CSV File\n",
    "\n",
    "Import ETA: 10 seconds"
   ]
  },
  {
   "cell_type": "code",
   "execution_count": 8,
   "metadata": {},
   "outputs": [
    {
     "name": "stdout",
     "output_type": "stream",
     "text": [
      "You're connected to database:  ('airbnb_db',)\n",
      "Creating Listings table....\n",
      "Listings table has been created....\n",
      "Number of records inserted into listings table:  3818\n"
     ]
    }
   ],
   "source": [
    "# Function for importing listings file\n",
    "\n",
    "listings = listings.replace(np.nan, None)\n",
    "\n",
    "def import_listings(connection, string):\n",
    "\n",
    "    try:                  \n",
    "        if connection.is_connected():\n",
    "            cursor = connection.cursor()\n",
    "        else:\n",
    "            connection = connect_to_msql(f'{string}')\n",
    "            cursor = connection.cursor()\n",
    "        cursor.execute(f\"USE {string};\")\n",
    "        cursor.execute(\"SELECT database();\")\n",
    "\n",
    "        record = cursor.fetchone()\n",
    "        print(\"You're connected to database: \", record)\n",
    "\n",
    "        cursor.execute('DROP TABLE IF EXISTS listings;')\n",
    "\n",
    "        print('Creating Listings table....')\n",
    "\n",
    "        cursor.execute(\"\"\"\n",
    "        CREATE TABLE listings( \n",
    "            id INT UNSIGNED NOT NULL,\n",
    "            listing_url TEXT DEFAULT NULL,\n",
    "            scrape_id BIGINT DEFAULT NULL,\n",
    "            last_scraped DATE DEFAULT NULL,\n",
    "            name VARCHAR(100) DEFAULT NULL,\n",
    "            summary TEXT DEFAULT NULL,\n",
    "            space TEXT DEFAULT NULL,\n",
    "            description TEXT DEFAULT NULL,\n",
    "            experiences_offered VARCHAR(10) DEFAULT NULL,\n",
    "            neighborhood_overview TEXT DEFAULT NULL,\n",
    "            notes TEXT DEFAULT NULL,\n",
    "            transit TEXT DEFAULT NULL,\n",
    "            thumbnail_url TEXT DEFAULT NULL,\n",
    "            medium_url TEXT DEFAULT NULL,\n",
    "            picture_url TEXT DEFAULT NULL,\n",
    "            xl_picture_url TEXT DEFAULT NULL,\n",
    "            host_id INT UNSIGNED DEFAULT NULL,\n",
    "            host_url TEXT DEFAULT NULL,\n",
    "            host_name VARCHAR (100) DEFAULT NULL,\n",
    "            host_since DATE DEFAULT NULL,\n",
    "            host_location VARCHAR (100) DEFAULT NULL,\n",
    "            host_about TEXT DEFAULT NULL,\n",
    "            host_response_time VARCHAR(100) DEFAULT NULL,\n",
    "            host_response_rate VARCHAR(10) DEFAULT NULL,\n",
    "            host_acceptance_rate VARCHAR(10) DEFAULT NULL,\n",
    "            host_is_superhost VARCHAR(1) DEFAULT NULL,\n",
    "            host_thumbnail_url TEXT DEFAULT NULL,\n",
    "            host_picture_url TEXT DEFAULT NULL,\n",
    "            host_neighbourhood VARCHAR (100) DEFAULT NULL,\n",
    "            host_listings_count INT DEFAULT NULL,\n",
    "            host_total_listings_count INT DEFAULT NULL,\n",
    "            host_verifications VARCHAR (500) DEFAULT NULL,\n",
    "            host_has_profile_pic VARCHAR(1) DEFAULT NULL,\n",
    "            host_identity_verified VARCHAR(1) DEFAULT NULL,\n",
    "            street TEXT DEFAULT NULL,\n",
    "            neighbourhood VARCHAR (100) DEFAULT NULL,\n",
    "            neighbourhood_cleansed VARCHAR (100) DEFAULT NULL,\n",
    "            neighbourhood_group_cleansed VARCHAR (100) DEFAULT NULL,\n",
    "            city VARCHAR (100) DEFAULT NULL,\n",
    "            state VARCHAR (10) DEFAULT NULL,\n",
    "            zipcode INT DEFAULT NULL,\n",
    "            market VARCHAR(50) DEFAULT NULL,\n",
    "            smart_location VARCHAR (25) DEFAULT NULL,\n",
    "            country_code TEXT,\n",
    "            country VARCHAR(50) DEFAULT NULL,\n",
    "            latitude VARCHAR(50) DEFAULT NULL,\n",
    "            longitude VARCHAR(50) DEFAULT NULL,\n",
    "            is_location_exact VARCHAR(1) DEFAULT NULL,\n",
    "            property_type VARCHAR(50) DEFAULT NULL,\n",
    "            room_type VARCHAR(50) DEFAULT NULL,\n",
    "            accommodates SMALLINT UNSIGNED NULL,\n",
    "            bathrooms FLOAT UNSIGNED DEFAULT NULL,\n",
    "            bedrooms SMALLINT UNSIGNED DEFAULT NULL,\n",
    "            beds SMALLINT UNSIGNED DEFAULT NULL,\n",
    "            bed_type VARCHAR(50) DEFAULT NULL,\n",
    "            amenities TEXT DEFAULT NULL,\n",
    "            square_feet BIGINT DEFAULT NULL,\n",
    "            price VARCHAR(10) DEFAULT NULL,\n",
    "            weekly_price VARCHAR(10) DEFAULT NULL,\n",
    "            monthly_price VARCHAR(10) DEFAULT NULL,\n",
    "            security_deposit VARCHAR(10) DEFAULT NULL,\n",
    "            cleaning_fee VARCHAR(10) DEFAULT NULL,\n",
    "            guests_included SMALLINT UNSIGNED DEFAULT NULL,\n",
    "            extra_people VARCHAR(10) DEFAULT NULL,\n",
    "            minimum_nights SMALLINT UNSIGNED DEFAULT NULL,\n",
    "            maximum_nights INT UNSIGNED DEFAULT NULL,\n",
    "            calendar_updated VARCHAR(50) DEFAULT NULL,\n",
    "            has_availability VARCHAR(1) DEFAULT NULL,\n",
    "            availability_30 SMALLINT UNSIGNED NOT NULL,\n",
    "            availability_60 SMALLINT UNSIGNED NOT NULL,\n",
    "            availability_90 SMALLINT UNSIGNED NOT NULL,\n",
    "            availability_365 SMALLINT UNSIGNED NOT NULL,\n",
    "            calendar_last_scraped DATE DEFAULT NULL,\n",
    "            number_of_reviews SMALLINT UNSIGNED NULL,\n",
    "            first_review DATE DEFAULT NULL,\n",
    "            last_review DATE DEFAULT NULL,\n",
    "            review_scores_rating SMALLINT UNSIGNED DEFAULT NULL,\n",
    "            review_scores_accuracy SMALLINT UNSIGNED DEFAULT NULL,\n",
    "            review_scores_cleanliness SMALLINT UNSIGNED DEFAULT NULL,\n",
    "            review_scores_checkin SMALLINT UNSIGNED DEFAULT NULL,\n",
    "            review_scores_communication SMALLINT UNSIGNED NULL DEFAULT NULL,\n",
    "            review_scores_location SMALLINT UNSIGNED DEFAULT NULL,\n",
    "            review_scores_value SMALLINT UNSIGNED DEFAULT NULL,\n",
    "            requires_license VARCHAR(1) DEFAULT NULL,\n",
    "            license VARCHAR(50) NULL DEFAULT NULL,\n",
    "            jurisdiction_names VARCHAR(50) DEFAULT NULL,\n",
    "            instant_bookable VARCHAR(1) DEFAULT NULL,\n",
    "            cancellation_policy VARCHAR(50) NULL DEFAULT NULL,\n",
    "            require_guest_profile_picture VARCHAR(1) DEFAULT NULL,\n",
    "            require_guest_phone_verification VARCHAR(1) DEFAULT NULL,\n",
    "            calculated_host_listings_count SMALLINT UNSIGNED NULL DEFAULT NULL,\n",
    "            reviews_per_month FLOAT UNSIGNED NULL,\n",
    "            PRIMARY KEY (id)\n",
    "        )\n",
    "        \"\"\")\n",
    "    \n",
    "        print(\"Listings table has been created....\")\n",
    "        \n",
    "         #loop through the data frame\n",
    "        for i,row in listings.iterrows():\n",
    "            try:\n",
    "                #here %S means string values \n",
    "                sql = \"\"\"\n",
    "                INSERT INTO Airbnb_DB.listings VALUES (\n",
    "                    %s,%s,%s,%s,%s,%s,%s,%s,%s,%s,\n",
    "                    %s,%s,%s,%s,%s,%s,%s,%s,%s,%s,\n",
    "                    %s,%s,%s,%s,%s,%s,%s,%s,%s,%s,\n",
    "                    %s,%s,%s,%s,%s,%s,%s,%s,%s,%s,\n",
    "                    %s,%s,%s,%s,%s,%s,%s,%s,%s,%s,\n",
    "                    %s,%s,%s,%s,%s,%s,%s,%s,%s,%s,\n",
    "                    %s,%s,%s,%s,%s,%s,%s,%s,%s,%s,\n",
    "                    %s,%s,%s,%s,%s,%s,%s,%s,%s,%s,\n",
    "                    %s,%s,%s,%s,%s,%s,%s,%s,%s,%s,\n",
    "                    %s,%s)\n",
    "                \"\"\"\n",
    "                cursor.execute(sql, tuple(row))\n",
    "                # print(\"Record inserted\")\n",
    "                \n",
    "                connection.commit()\n",
    "            except Error as e:\n",
    "                print(\"Error while importing Listings: \", e)\n",
    "                \n",
    "        print(\"Number of records inserted into listings table: \", i + 1)\n",
    "    except Error as e:\n",
    "        print(\"Error while connecting to MySQL\", e)\n",
    "\n",
    "# How to call function\n",
    "\n",
    "import_listings(conn, 'Airbnb_DB')\n"
   ]
  },
  {
   "cell_type": "markdown",
   "metadata": {},
   "source": [
    "Import Reviews CSV\n",
    "\n",
    "Import ETA: 30 seconds"
   ]
  },
  {
   "cell_type": "code",
   "execution_count": 9,
   "metadata": {},
   "outputs": [
    {
     "name": "stdout",
     "output_type": "stream",
     "text": [
      "You're connected to database:  ('airbnb_db',)\n",
      "Creating Reviews table....\n",
      "Reviews table has been created....\n",
      "Unique list values:  []\n",
      "\n",
      "Number of records inserted into reviews table:  84849\n"
     ]
    }
   ],
   "source": [
    "reviews = reviews.replace(np.nan, None)\n",
    "\n",
    "# Function for importing reviews files\n",
    "\n",
    "def import_reviews(connection, string):\n",
    "\n",
    "    try:                  \n",
    "        if connection.is_connected():\n",
    "            cursor = connection.cursor()\n",
    "        else:\n",
    "            connection = connect_to_msql(f'{string}')\n",
    "            cursor = connection.cursor()\n",
    "        cursor.execute(f\"USE {string};\")\n",
    "        cursor.execute(\"SELECT database();\")\n",
    "\n",
    "        record = cursor.fetchone()\n",
    "        print(\"You're connected to database: \", record)\n",
    "\n",
    "        cursor.execute('DROP TABLE IF EXISTS reviews;')\n",
    "\n",
    "        print('Creating Reviews table....')\n",
    "\n",
    "        # pass the create table statement\n",
    "        cursor.execute(\"\"\"\n",
    "        CREATE TABLE reviews(\n",
    "            listing_id int UNSIGNED NOT NULL,\n",
    "            id int,\n",
    "            date date,\n",
    "            reviewer_id int DEFAULT NULL,\n",
    "            reviewer_name varchar(100) DEFAULT NULL, \n",
    "            comments text DEFAULT NULL,\n",
    "            PRIMARY KEY (id),\n",
    "            FOREIGN KEY (listing_id)\n",
    "                REFERENCES listings (id) \n",
    "                ON DELETE RESTRICT \n",
    "                ON UPDATE CASCADE\n",
    "        )\n",
    "        \"\"\")\n",
    "        print(\"Reviews table has been created....\")\n",
    "        \n",
    "        nonexistent_listings = []\n",
    "        for i,row in reviews.iterrows():\n",
    "            try:\n",
    "                sql = \"INSERT INTO Airbnb_DB.reviews VALUES (%s,%s,%s,%s,%s,%s)\"\n",
    "                cursor.execute(sql, tuple(row))\n",
    "                # print(\"Record inserted\")\n",
    "                \n",
    "                connection.commit()\n",
    "            except Error as e:\n",
    "                print(\"Error while importing Reviews: \", e)\n",
    "                nonexistent_listings.append(tuple(row)[0])\n",
    "\n",
    "        unique(nonexistent_listings)\n",
    "        print(\"\\nNumber of records inserted into reviews table: \", i + 1 - len(nonexistent_listings))\n",
    "    except Error as e:\n",
    "        print(\"Error while connecting to MySQL\", e)\n",
    "\n",
    "# How to call function\n",
    "\n",
    "import_reviews(conn, 'Airbnb_DB')"
   ]
  },
  {
   "cell_type": "markdown",
   "metadata": {},
   "source": [
    "Import Calendar CSV Files\n",
    "\n",
    "Import ETA: 4 - 5 mins"
   ]
  },
  {
   "cell_type": "code",
   "execution_count": 10,
   "metadata": {},
   "outputs": [
    {
     "name": "stdout",
     "output_type": "stream",
     "text": [
      "You're connected to database:  ('airbnb_db',)\n",
      "Creating Calendar table....\n",
      "Calendar table has been created....\n",
      "Unique list values:  []\n",
      "Number of records inserted into calendar table:  1048575\n"
     ]
    }
   ],
   "source": [
    "# Function for importing calendar files\n",
    "\n",
    "calendar = calendar.replace(np.nan, None)\n",
    "\n",
    "def import_calendar(connection, string):\n",
    "\n",
    "    try:                  \n",
    "        if connection.is_connected():\n",
    "            cursor = connection.cursor()\n",
    "        else:\n",
    "            connection = connect_to_msql(f'{string}')\n",
    "            cursor = connection.cursor()\n",
    "        cursor.execute(f\"USE {string};\")\n",
    "        cursor.execute(\"SELECT database();\")\n",
    "\n",
    "        record = cursor.fetchone()\n",
    "        print(\"You're connected to database: \", record)\n",
    "\n",
    "        cursor.execute('DROP TABLE IF EXISTS calendar;')\n",
    "\n",
    "        print('Creating Calendar table....')\n",
    "                        \n",
    "        # pass the create table statement \n",
    "        cursor.execute(\"\"\"\n",
    "        CREATE TABLE calendar( \n",
    "            calendar_id int NOT NULL AUTO_INCREMENT,\n",
    "            listing_id INT UNSIGNED NOT NULL,\n",
    "            date DATE DEFAULT NULL,\n",
    "            available TEXT DEFAULT NULL, \n",
    "            price TEXT DEFAULT NULL,\n",
    "            PRIMARY KEY (calendar_id),\n",
    "            FOREIGN KEY (listing_id) \n",
    "                REFERENCES listings (id) \n",
    "                ON DELETE RESTRICT \n",
    "                ON UPDATE CASCADE\n",
    "            );\n",
    "        \"\"\")\n",
    "\n",
    "        print(\"Calendar table has been created....\")\n",
    "\n",
    "        nonexistent_listings = []\n",
    "        for i,row in calendar.iterrows():\n",
    "            try:\n",
    "                sql = \"INSERT INTO Airbnb_DB.calendar(listing_id, date, available, price) VALUES (%s,%s,%s,%s)\" # %S means string interpolation\n",
    "                cursor.execute(sql, tuple(row))\n",
    "                connection.commit() # since connection is not auto committed by default\n",
    "            except Error as e:\n",
    "                print(\"Error while importing Calendar: \", e)\n",
    "                nonexistent_listings.append(tuple(row)[0])\n",
    "\n",
    "        unique(nonexistent_listings)\n",
    "        print(\"Number of records inserted into calendar table: \", i + 1 - len(nonexistent_listings))\n",
    "    except Error as e:\n",
    "        print(\"Error while connecting to MySQL\", e)\n",
    "\n",
    "# How to call function\n",
    "\n",
    "import_calendar(conn, 'Airbnb_DB')\n"
   ]
  }
 ],
 "metadata": {
  "kernelspec": {
   "display_name": "Python 3 (ipykernel)",
   "language": "python",
   "name": "python3"
  },
  "language_info": {
   "codemirror_mode": {
    "name": "ipython",
    "version": 3
   },
   "file_extension": ".py",
   "mimetype": "text/x-python",
   "name": "python",
   "nbconvert_exporter": "python",
   "pygments_lexer": "ipython3",
   "version": "3.9.13"
  },
  "vscode": {
   "interpreter": {
    "hash": "b67baf7d77b2e4322c694a7cdbefbe104fc7a417c712774226af2226d547f1c9"
   }
  }
 },
 "nbformat": 4,
 "nbformat_minor": 2
}
